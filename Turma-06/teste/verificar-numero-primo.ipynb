{
 "cells": [
  {
   "cell_type": "code",
   "execution_count": 16,
   "metadata": {},
   "outputs": [
    {
     "name": "stdout",
     "output_type": "stream",
     "text": [
      "Digite o número: 3\n",
      "Número 3 é primo\n"
     ]
    }
   ],
   "source": [
    "#Algoritmo para verificar se o número é primo\n",
    "#Por definição um número natural é primo se ele é maior que 1 e é divisível apenas por si próprio e por 1.\n",
    "#Autor: Vitor da Silva\n",
    "#Data:18/05/2020\n",
    "\n",
    "numero=int(input(\"Digite o número: \"))\n",
    "\n",
    "if (numero > 1):\n",
    "    i = 2 #inicializador\n",
    "    \n",
    "    if (numero == 2): #único número primo não par\n",
    "        print(\"Número\",numero, \"é primo!\")\n",
    "    \n",
    "    while (i < numero) : #verifica a condição\n",
    "        if (numero % i) == 0:\n",
    "            print(\"Número\",numero, \"não é primo\")\n",
    "            break     \n",
    "        else:\n",
    "            print(\"Número\",numero, \"é primo\")\n",
    "            break     \n",
    "        i+=1  #Adicionando o incremento do laço de repetiçao While\"\n",
    "    \n",
    "elif (numero >= 0):\n",
    "    print(\"Número\",numero, \" não é primo\")\n",
    "\n",
    "elif (numero < 0):\n",
    "    print(\"Número\",numero, \" é uma entrada inválida, pois se trata de um número negativo!\")"
   ]
  },
  {
   "cell_type": "code",
   "execution_count": null,
   "metadata": {},
   "outputs": [],
   "source": []
  }
 ],
 "metadata": {
  "kernelspec": {
   "display_name": "Python 3",
   "language": "python",
   "name": "python3"
  },
  "language_info": {
   "codemirror_mode": {
    "name": "ipython",
    "version": 3
   },
   "file_extension": ".py",
   "mimetype": "text/x-python",
   "name": "python",
   "nbconvert_exporter": "python",
   "pygments_lexer": "ipython3",
   "version": "3.7.6"
  }
 },
 "nbformat": 4,
 "nbformat_minor": 4
}
