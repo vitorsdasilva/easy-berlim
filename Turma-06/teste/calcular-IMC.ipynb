{
 "cells": [
  {
   "cell_type": "code",
   "execution_count": null,
   "metadata": {},
   "outputs": [],
   "source": [
    "#Calculo IMC\n",
    "#referência: https://www.minhavida.com.br/alimentacao/tudo-sobre/32159-imc\n",
    "#Autor: Vitor da Silva\n",
    "#Data:18/05/2020\n",
    "\n",
    "peso = float (input(\"Seu peso:\"))\n",
    "altura = float (input(\"Sua altura:\"))\n",
    "\n",
    "\n",
    "#O IMC é calculado dividindo o peso pela altura elevada ao quadrado. \n",
    "imc = peso/(altura*altura)\n",
    "\n",
    "print (\"imc = \" , imc)\n",
    "if (imc <  18.5 ):\n",
    "    print(\"Baixo Peso\")\n",
    "elif ( (imc >= 18.5)  and (imc < 25) ):\n",
    "    print(\"\tPeso normal\")\n",
    "elif ( (imc >= 25)  and (imc < 30) ):\n",
    "     print(\"Sobrepeso\")\n",
    "elif ( (imc >= 30)  and (imc < 35) ):\n",
    "     print(\"Obesidade grau 1\")\n",
    "elif ( (imc >= 35)  and (imc < 40) ):\n",
    "     print(\"Obesidade grau 2\")\n",
    "elif (imc >= 40):\n",
    "    print(\"Obesidade grau 3\")"
   ]
  }
 ],
 "metadata": {
  "kernelspec": {
   "display_name": "Python 3",
   "language": "python",
   "name": "python3"
  },
  "language_info": {
   "codemirror_mode": {
    "name": "ipython",
    "version": 3
   },
   "file_extension": ".py",
   "mimetype": "text/x-python",
   "name": "python",
   "nbconvert_exporter": "python",
   "pygments_lexer": "ipython3",
   "version": "3.7.6"
  }
 },
 "nbformat": 4,
 "nbformat_minor": 4
}
